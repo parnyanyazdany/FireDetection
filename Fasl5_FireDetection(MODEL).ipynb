{
  "cells": [
    {
      "cell_type": "code",
      "execution_count": null,
      "metadata": {
        "colab": {
          "background_save": true,
          "base_uri": "https://localhost:8080/",
          "height": 689
        },
        "id": "fhnf7fdOsexL",
        "outputId": "f918e1c3-8ddf-4eaa-a237-952cc17caf6d"
      },
      "outputs": [
        {
          "name": "stdout",
          "output_type": "stream",
          "text": [
            "  % Total    % Received % Xferd  Average Speed   Time    Time     Time  Current\n",
            "                                 Dload  Upload   Total   Spent    Left  Speed\n",
            "\r  0     0    0     0    0     0      0      0 --:--:-- --:--:-- --:--:--     0\r100  4534  100  4534    0     0  22898      0 --:--:-- --:--:-- --:--:-- 23015\n",
            "0/100 processed\n",
            "100/100 processed\n",
            "200/100 processed\n",
            "300/100 processed\n",
            "400/100 processed\n",
            "500/100 processed\n",
            "600/100 processed\n",
            "700/100 processed\n",
            "800/100 processed\n",
            "900/100 processed\n",
            "1000/100 processed\n",
            "(1001, 3072)\n",
            "percision: 97.24\n",
            "recall: 84.94\n",
            "f_score: 90.68\n",
            "accuracy: 85.57\n"
          ]
        }
      ],
      "source": [
        "import cv2\n",
        "import glob\n",
        "import numpy as np\n",
        "from sklearn.model_selection import train_test_split\n",
        "from sklearn.neighbors import KNeighborsClassifier\n",
        "!curl -o logo.png https://colab.research.google.com/img/colab_favicon_256px.png\n",
        "from google.colab.patches import cv2_imshow\n",
        "\n",
        "\n",
        "def load_data():\n",
        "  data_list=[]\n",
        "  labels=[]\n",
        "  for i, address in enumerate(glob.glob(r\"/content/drive/MyDrive/Colab Notebooks/fire_dataset/*/*\")):\n",
        "    img=cv2.imread(address)\n",
        "    #print(img.shape)\n",
        "    img=cv2.resize(img, (32,32))\n",
        "    #print(img.shape)\n",
        "    img= img/255\n",
        "    img= img.flatten()\n",
        "    #print(img.shape)\n",
        "    data_list.append(img)\n",
        "    label=address.split(\"/\")[-1].split(\".\")[0]\n",
        "    #print(label)\n",
        "    labels.append(label)\n",
        "    if i%100==0:\n",
        "      print(\"{}/{} processed\". format(i, 100))\n",
        "  data_list=np.array(data_list)\n",
        "  print(data_list.shape)\n",
        "  x_train, x_test, y_train, y_test= train_test_split(data_list, labels, test_size=0.2)\n",
        "  return x_train, x_test, y_train, y_test\n",
        "\n",
        "x_train, x_test, y_train, y_test=load_data()\n",
        "\n",
        "#یک کلسیفایر برای ترین و تست کردن داده ها نیاز داریم در مدل KNN\n",
        "clf= KNeighborsClassifier()\n",
        "clf.fit(x_train, y_train)\n",
        "\n",
        "\n",
        "# برای ذخیره کردن این مدل کلسیفایر\n",
        "from joblib import dump, load \n",
        "dump(clf, \"/content/drive/MyDrive/Colab Notebooks/fire_detection.z\")\n",
        "#acc= clf.score(x_test, y_test)   این جواب قانع کننده نیست و باید معیارهای دیگه هم حساب شن \n",
        "#print(\"accuracy: {:.2f}\".format(acc*100))\n",
        "\n",
        "#برای ارزیابی مدل با معیار های پیش بینی\n",
        "from sklearn.metrics import precision_score, recall_score, f1_score, accuracy_score\n",
        "y_pred=clf.predict(x_test)\n",
        "accuracy=accuracy_score(y_pred, y_test)\n",
        "percision=precision_score (y_pred, y_test, pos_label=\"fire\")\n",
        "recall= recall_score(y_pred, y_test)\n",
        "f_score=f1_score (y_pred, y_test)\n",
        "\n",
        "#پرینت\n",
        "print(\"percision: {:.2f}\".format(percision*100))\n",
        "print(\"recall: {:.2f}\".format(recall*100))\n",
        "print(\"f_score: {:.2f}\".format(f_score*100))\n",
        "print(\"accuracy: {:.2f}\".format(accuracy*100))"
      ]
    }
  ],
  "metadata": {
    "colab": {
      "provenance": []
    },
    "kernelspec": {
      "display_name": "Python 3",
      "name": "python3"
    },
    "language_info": {
      "name": "python"
    }
  },
  "nbformat": 4,
  "nbformat_minor": 0
}